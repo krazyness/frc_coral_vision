{
 "cells": [
  {
   "cell_type": "markdown",
   "id": "bdbdeeb0",
   "metadata": {},
   "source": [
    "# NumPy Preliminaries\n",
    "\n",
    "In this notebook, we'll cover the basics of NumPy:\n",
    "\n",
    "- **Arrays:** How to create and work with NumPy arrays.\n",
    "- **Indexing & Slicing:** How to access and manipulate array elements.\n",
    "- **Masking (Boolean Indexing):** How to select elements based on conditions.\n",
    "\n",
    "NumPy is a powerful library for numerical computing in Python, and these concepts are essential for many data science and robotics applications."
   ]
  },
  {
   "cell_type": "code",
   "execution_count": 20,
   "id": "e72013a7",
   "metadata": {},
   "outputs": [],
   "source": [
    "# We can import Numpy here. About 100% of the time that people use numpy they call it 'np'\n",
    "import numpy as np\n",
    "\n",
    "\n",
    "# Placeholder\n",
    "your_code_here = lambda: None"
   ]
  },
  {
   "cell_type": "markdown",
   "id": "b0c737b7",
   "metadata": {},
   "source": [
    "## 1. Creating Arrays\n",
    "\n",
    "NumPy arrays are the core data structure. You can create them from lists or using built-in functions."
   ]
  },
  {
   "cell_type": "code",
   "execution_count": 2,
   "id": "0eb38aa9",
   "metadata": {},
   "outputs": [
    {
     "name": "stdout",
     "output_type": "stream",
     "text": [
      "1D array: [1 2 3 4 5]\n",
      "Shape: (5,)\n",
      "\n",
      "2D array:\n",
      " [[1 2 3]\n",
      " [4 5 6]]\n",
      "Shape: (2, 3)\n",
      "\n",
      "Zeros:\n",
      " [[0. 0. 0. 0.]\n",
      " [0. 0. 0. 0.]\n",
      " [0. 0. 0. 0.]]\n",
      "\n",
      "Ones:\n",
      " [[1. 1. 1. 1. 1.]\n",
      " [1. 1. 1. 1. 1.]]\n",
      "\n",
      "Arange: [0 2 4 6 8]\n",
      "\n",
      "Linspace: [0.   0.25 0.5  0.75 1.  ]\n"
     ]
    }
   ],
   "source": [
    "# Create a 1D array from a list\n",
    "a = np.array([1, 2, 3, 4, 5])\n",
    "print(\"1D array:\", a)\n",
    "print(\"Shape:\", a.shape)\n",
    "\n",
    "# Create a 2D array from nested lists\n",
    "b = np.array([[1, 2, 3], [4, 5, 6]])\n",
    "print(\"\\n2D array:\\n\", b)\n",
    "print(\"Shape:\", b.shape)\n",
    "\n",
    "# Create arrays with built-in functions\n",
    "zeros = np.zeros((3, 4))\n",
    "ones = np.ones((2, 5))\n",
    "range_array = np.arange(0, 10, 2)  # From 0 to 8 with step 2\n",
    "linspace_array = np.linspace(0, 1, 5)  # 5 numbers between 0 and 1\n",
    "\n",
    "print(\"\\nZeros:\\n\", zeros)\n",
    "print(\"\\nOnes:\\n\", ones)\n",
    "print(\"\\nArange:\", range_array)\n",
    "print(\"\\nLinspace:\", linspace_array)"
   ]
  },
  {
   "cell_type": "code",
   "execution_count": null,
   "id": "ea4264ab",
   "metadata": {},
   "outputs": [],
   "source": [
    "## Now try a couple things to test knowledge.\n",
    "\n",
    "# Challenge 1: Create an array that is 10x10, all zeros\n",
    "\n",
    "your_code_here()\n",
    "\n",
    "# Challenge 2: Create an array that is all the integers divisible by 3 between 0 and 100.\n",
    "\n",
    "your_code_here()\n",
    "\n",
    "# Challenge 2: Create a matrix that looks like this (without typing it out!)\n",
    "# You'll probably want to google np.reshape()!\n",
    "# [[1 2 3]\n",
    "#  [4 5 6]\n",
    "#  [7 8 9]]\n",
    "\n",
    "your_code_here()\n"
   ]
  },
  {
   "cell_type": "markdown",
   "id": "b64140a2",
   "metadata": {},
   "source": [
    "## 2. Indexing and Slicing\n",
    "\n",
    "You can access elements in an array using indexing and slicing. \n",
    "\n",
    "- **Indexing:** Access a specific element.\n",
    "- **Slicing:** Extract a sub-array.\n",
    "\n",
    "Note that indexing is zero-based."
   ]
  },
  {
   "cell_type": "code",
   "execution_count": null,
   "id": "dd6d3943",
   "metadata": {},
   "outputs": [],
   "source": [
    "# 1D array indexing and slicing\n",
    "print(\"First element of a:\", a[0])\n",
    "print(\"Elements 2 to 4 of a:\", a[1:4])\n",
    "\n",
    "# 2D array indexing\n",
    "print(\"\\nElement at row 1, column 2 of b:\", b[1, 2])\n",
    "print(\"First row of b:\", b[0])\n",
    "print(\"Last column of b:\", b[:, -1])\n",
    "\n",
    "# Skipping elements:\n",
    "print(\"Every other value of a:\", a[::2])\n",
    "print(\"Every third value of a:\", a[::3])"
   ]
  },
  {
   "cell_type": "code",
   "execution_count": null,
   "id": "900e3ea3",
   "metadata": {},
   "outputs": [],
   "source": [
    "## Now some things to try again!\n",
    "\n",
    "# Challenge 1: Create an array that is every integer between 1 and 100 (hint: use np.arange). \n",
    "# Then index it to only keep the numbers divisible by 5.\n",
    "\n",
    "# Challenge 2: Take this matrix and index it to create a 1D array of 10 1s.\n",
    "input_matrix = np.eye(10) # print this to see what it is"
   ]
  },
  {
   "cell_type": "markdown",
   "id": "2a6f651b",
   "metadata": {},
   "source": [
    "## 3. Boolean Indexing (Masking)\n",
    "\n",
    "Boolean indexing (masking) lets you select elements that satisfy a condition.\n",
    "\n",
    "For example, say we want to get rid of every element in a list that is below some value (in this case 18).\n",
    "\n",
    "We can first create a `mask` that is the same size as the array, and is `True` if each entry is greater than 18 and `False` otherwise."
   ]
  },
  {
   "cell_type": "code",
   "execution_count": 3,
   "id": "9e2da700",
   "metadata": {},
   "outputs": [
    {
     "name": "stdout",
     "output_type": "stream",
     "text": [
      "Array c: [10 15 20 25 30]\n",
      "Boolean mask (c > 18): [False False  True  True  True]\n",
      "Filtered array (elements > 18): [20 25 30]\n"
     ]
    }
   ],
   "source": [
    "# Create an array for demonstration\n",
    "c = np.array([10, 15, 20, 25, 30])\n",
    "print(\"Array c:\", c)\n",
    "\n",
    "# Create a boolean mask (True for elements greater than 18)\n",
    "mask = c > 18\n",
    "print(\"Boolean mask (c > 18):\", mask)\n",
    "\n",
    "# Use the mask to filter array elements\n",
    "filtered = c[mask]\n",
    "print(\"Filtered array (elements > 18):\", filtered)"
   ]
  },
  {
   "cell_type": "markdown",
   "id": "3d03b1da",
   "metadata": {},
   "source": [
    "## 4. Combining Operations\n",
    "\n",
    "You can combine slicing and masking for more advanced selections."
   ]
  },
  {
   "cell_type": "code",
   "execution_count": 18,
   "id": "d2b88c6c",
   "metadata": {},
   "outputs": [
    {
     "name": "stdout",
     "output_type": "stream",
     "text": [
      "2D array d:\n",
      " [[7.33829632 5.9005438  6.47872108 6.58141475]\n",
      " [7.93373139 5.38213259 3.62934849 2.21550784]\n",
      " [3.81815526 6.73125643 9.87609888 2.77368424]\n",
      " [9.59827468 5.69256409 0.32508125 8.66136292]]\n",
      "\n",
      "\n",
      "Row mask (first column > 4): [ True  True False  True]\n",
      "\n",
      "\n",
      "Selected rows:\n",
      " [[7.33829632 5.9005438  6.47872108 6.58141475]\n",
      " [7.93373139 5.38213259 3.62934849 2.21550784]\n",
      " [9.59827468 5.69256409 0.32508125 8.66136292]]\n",
      "\n",
      "\n",
      "d with elements from selected rows set to 0 [[-1.         -1.         -1.         -1.        ]\n",
      " [-1.         -1.         -1.         -1.        ]\n",
      " [ 3.81815526  6.73125643  9.87609888  2.77368424]\n",
      " [-1.         -1.         -1.         -1.        ]]\n",
      "\n",
      "\n",
      "Even mask on selected rows:\n",
      " [[False False  True  True]\n",
      " [False False False  True]\n",
      " [False False  True  True]]\n",
      "\n",
      "\n",
      "Even elements from selected rows: [6.47872108 6.58141475 2.21550784 0.32508125 8.66136292]\n"
     ]
    }
   ],
   "source": [
    "# Create a 2D array\n",
    "d = np.random.rand(4, 4)*10\n",
    "print(\"2D array d:\\n\", d)\n",
    "\n",
    "# Select all rows where the element in the first column is greater than 5\n",
    "row_mask = d[:, 0] > 4\n",
    "print(\"\\n\\nRow mask (first column > 4):\", row_mask)\n",
    "\n",
    "selected_rows = d[row_mask]\n",
    "print(\"\\n\\nSelected rows:\\n\", selected_rows)\n",
    "\n",
    "# Now that we have a mask, we can replace values at the selected locations with another value:\n",
    "d[row_mask] = -1 # For selected rows, set the selected values to -1.\n",
    "print(\"\\n\\nd with elements from selected rows set to 0\", d)\n",
    "\n",
    "# Within these rows, select only elements that are even numbers (when rounded to the nearest int!)\n",
    "even_mask = selected_rows.astype(int) % 2 == 0\n",
    "print(\"\\n\\nEven mask on selected rows:\\n\", even_mask)\n",
    "\n",
    "even_elements = selected_rows[even_mask]\n",
    "print(\"\\n\\nEven elements from selected rows:\", even_elements)\n"
   ]
  },
  {
   "cell_type": "code",
   "execution_count": null,
   "id": "d8aee7b9",
   "metadata": {},
   "outputs": [
    {
     "name": "stdout",
     "output_type": "stream",
     "text": [
      "2D array e:\n",
      " [[8.0047247  0.35741665 2.71370289 5.69344867 2.70959974 4.85112406\n",
      "  0.55263052 1.05134746 0.38716403 9.88645422]\n",
      " [7.63328686 9.51649339 8.66453999 4.88783617 2.60425876 2.09833927\n",
      "  4.92791538 4.43145417 3.85908367 2.61602308]\n",
      " [1.5913769  7.82185245 8.5094453  9.8100599  9.62352956 9.46631288\n",
      "  6.40670412 1.35069886 8.49708776 0.55541593]\n",
      " [1.55193966 1.8533219  8.35565779 6.12605095 2.29324596 0.61112763\n",
      "  6.0190869  4.8930502  3.14890124 5.1875203 ]\n",
      " [0.06696491 4.61371967 6.23680943 2.9854349  9.76942547 7.3552893\n",
      "  2.73193908 5.62329025 8.1177604  7.56731644]\n",
      " [7.23395709 1.90896081 2.03474578 4.87522443 5.35614104 5.71627239\n",
      "  3.89476669 2.75552984 7.57063699 5.89159551]\n",
      " [5.76677202 6.56005176 7.77695815 7.06477791 5.0689965  0.50154155\n",
      "  5.56844779 8.2286682  5.52343847 7.84772542]\n",
      " [8.83131801 5.76398822 6.57346172 5.80287591 3.66975392 0.68330679\n",
      "  9.11700079 4.55934816 8.49967515 6.94724526]\n",
      " [5.33301623 3.26891205 8.47024866 5.44873141 4.04572732 8.04100411\n",
      "  6.06190298 0.06825328 4.74291861 9.52212885]\n",
      " [2.68207332 9.60577956 2.27793663 2.21475079 3.1500376  5.20775126\n",
      "  8.64092021 4.94341996 3.73089599 9.92316173]]\n"
     ]
    }
   ],
   "source": [
    "## Final Challenge: Given the below random matrix, keep values where each \n",
    "# element is greater than 3 but less than 5. Set all the other values to zero.\n",
    "\n",
    "e = np.random.rand(10,10)*10 # random 10x10 array \n",
    "print(\"2D array e:\\n\", e)\n",
    "\n",
    "\n"
   ]
  },
  {
   "cell_type": "markdown",
   "id": "90e90f07",
   "metadata": {},
   "source": [
    "## Summary\n",
    "\n",
    "In this notebook you learned:\n",
    "\n",
    "- How to create NumPy arrays from lists and using built-in functions.\n",
    "- How to access elements using indexing and slicing.\n",
    "- How to use boolean indexing (masking) to filter arrays.\n",
    "\n",
    "These are foundational skills that will help you work with numerical data efficiently.\n",
    "\n",
    "Try modifying the code examples and see how changes affect the output. Happy coding!"
   ]
  }
 ],
 "metadata": {
  "jupytext": {
   "cell_metadata_filter": "-all",
   "main_language": "python",
   "notebook_metadata_filter": "-all"
  },
  "kernelspec": {
   "display_name": "Python 3",
   "language": "python",
   "name": "python3"
  },
  "language_info": {
   "codemirror_mode": {
    "name": "ipython",
    "version": 3
   },
   "file_extension": ".py",
   "mimetype": "text/x-python",
   "name": "python",
   "nbconvert_exporter": "python",
   "pygments_lexer": "ipython3",
   "version": "3.13.2"
  }
 },
 "nbformat": 4,
 "nbformat_minor": 5
}
